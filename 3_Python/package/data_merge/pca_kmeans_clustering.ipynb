{
 "cells": [
  {
   "metadata": {},
   "cell_type": "markdown",
   "source": "Imports",
   "id": "9c62e5263ff146b4"
  },
  {
   "metadata": {
    "ExecuteTime": {
     "end_time": "2024-07-15T09:48:56.699249Z",
     "start_time": "2024-07-15T09:48:56.687582Z"
    }
   },
   "cell_type": "code",
   "source": [
    "import numpy as np\n",
    "from sklearn.cluster import KMeans\n",
    "from sklearn.manifold import TSNE\n",
    "import matplotlib.pyplot as plt\n",
    "from sklearn.preprocessing import StandardScaler\n",
    "import os\n",
    "import pandas as pd\n",
    "from sklearn.metrics import silhouette_score\n",
    "from sklearn.decomposition import PCA"
   ],
   "id": "ac8a77ec53e0c205",
   "outputs": [],
   "execution_count": 15
  },
  {
   "metadata": {},
   "cell_type": "markdown",
   "source": "Functions ",
   "id": "56fc0be471a621e3"
  },
  {
   "metadata": {
    "ExecuteTime": {
     "end_time": "2024-07-15T09:48:56.766850Z",
     "start_time": "2024-07-15T09:48:56.745574Z"
    }
   },
   "cell_type": "code",
   "source": [
    "def elbowmethod(data, max_cluster):\n",
    "    iters = range(2, max_cluster+1, 2)\n",
    "    sse = []\n",
    "    for k in iters:\n",
    "        kmeans = KMeans(n_clusters=k, random_state=42)\n",
    "        kmeans.fit(data)\n",
    "        sse.append(kmeans.inertia_)\n",
    "    plt.plot(iters, sse, marker='o')\n",
    "    plt.xlabel('Clusterzahl')\n",
    "    plt.ylabel('SSE')\n",
    "    plt.show()\n",
    "\n",
    "\n",
    "def draw_plot():\n",
    "    fig = plt.figure()\n",
    "    ax = fig.add_subplot(111, projection='3d')\n",
    "    scatter = ax.scatter(data_tsne[:, 0], data_tsne[:, 1], data_tsne[:, 2], c=labels, cmap='viridis')\n",
    "    # Legende hinzufügen\n",
    "    legend1 = ax.legend(*scatter.legend_elements(), title=\"Cluster\")\n",
    "    ax.add_artist(legend1)\n",
    "    # Achsen beschriften\n",
    "    ax.set_xlabel('t-SNE 1')\n",
    "    ax.set_ylabel('t-SNE 2')\n",
    "    ax.set_zlabel('t-SNE 3')\n",
    "    # Berechnen Sie die Inertia\n",
    "    inertia = kmeans.inertia_\n",
    "    # Berechnen Sie den Silhouettenkoeffizienten\n",
    "    silhouette = silhouette_score(data, labels)\n",
    "    print(\"Inertia: \", inertia)\n",
    "    print(\"Silhouettenkoeffizient: \", silhouette)\n",
    "    plt.show()"
   ],
   "id": "df4a9946abac7162",
   "outputs": [],
   "execution_count": 16
  },
  {
   "metadata": {},
   "cell_type": "markdown",
   "source": "load Data and transform to df",
   "id": "f1540b7f05ea2c"
  },
  {
   "metadata": {
    "ExecuteTime": {
     "end_time": "2024-07-15T09:48:56.810212Z",
     "start_time": "2024-07-15T09:48:56.766850Z"
    }
   },
   "cell_type": "code",
   "source": [
    "\n",
    "# Daten laden\n",
    "data_load = np.load(os.path.join(os.path.dirname(os.path.dirname(os.getcwd())), \"data\", \"exp7_waveforms_as_one_array\"\n",
    "                                                                                        \".npy\"))\n",
    "data = data_load[2000:4000]\n",
    "df = pd.DataFrame(data, columns=[f\"Punkt_{i}\" for i in range(48)])\n",
    "df.index.name = \"Wellennummer\""
   ],
   "id": "7d1b301ddb3d8f63",
   "outputs": [],
   "execution_count": 17
  },
  {
   "metadata": {},
   "cell_type": "markdown",
   "source": "",
   "id": "35449da59dc11c36"
  },
  {
   "metadata": {},
   "cell_type": "markdown",
   "source": "Scale Data",
   "id": "59511712b2cfe40"
  },
  {
   "metadata": {
    "ExecuteTime": {
     "end_time": "2024-07-15T09:48:56.825098Z",
     "start_time": "2024-07-15T09:48:56.810212Z"
    }
   },
   "cell_type": "code",
   "source": [
    "scaler = StandardScaler()\n",
    "data_normalized = scaler.fit_transform(df)"
   ],
   "id": "17a3f5ccb67afcd9",
   "outputs": [],
   "execution_count": 18
  },
  {
   "metadata": {},
   "cell_type": "markdown",
   "source": "PCA",
   "id": "988b376e28176f5e"
  },
  {
   "metadata": {
    "ExecuteTime": {
     "end_time": "2024-07-15T09:48:56.955022Z",
     "start_time": "2024-07-15T09:48:56.825098Z"
    }
   },
   "cell_type": "code",
   "source": [
    "pca = PCA(n_components=2)\n",
    "data_pca = pca.fit_transform(data_normalized)\n",
    "data_normalized = data_pca"
   ],
   "id": "d62742b2a37fbe1a",
   "outputs": [],
   "execution_count": 19
  },
  {
   "metadata": {},
   "cell_type": "markdown",
   "source": "Elbow Method and KMeans Clustering",
   "id": "4dd9f54c49479572"
  },
  {
   "metadata": {
    "ExecuteTime": {
     "end_time": "2024-07-15T09:48:58.573498Z",
     "start_time": "2024-07-15T09:48:56.955022Z"
    }
   },
   "cell_type": "code",
   "source": [
    "elbowmethod(data_normalized, max_cluster=100)\n",
    "\n",
    "n_clusters = 6  \n",
    "kmeans = KMeans(n_clusters=n_clusters, random_state=42)\n",
    "kmeans.fit(data_normalized)\n",
    "labels = kmeans.labels_"
   ],
   "id": "7a69ca6440aeb39f",
   "outputs": [
    {
     "data": {
      "text/plain": [
       "<Figure size 640x480 with 1 Axes>"
      ],
      "image/png": "[encoded data removed]"
     },
     "metadata": {},
     "output_type": "display_data"
    }
   ],
   "execution_count": 20
  },
  {
   "metadata": {},
   "cell_type": "markdown",
   "source": "",
   "id": "470b4918107dd803"
  },
  {
   "metadata": {},
   "cell_type": "markdown",
   "source": "t-SNE and plot",
   "id": "f83a86ff8798515c"
  },
  {
   "metadata": {
    "ExecuteTime": {
     "end_time": "2024-07-15T09:49:00.095402Z",
     "start_time": "2024-07-15T09:48:58.579518Z"
    }
   },
   "cell_type": "code",
   "source": [
    "\n",
    "tsne = TSNE(n_components=3, perplexity=30, learning_rate=5, random_state=42)\n",
    "data_tsne = tsne.fit_transform(data_normalized)\n",
    "\n",
    "draw_plot()"
   ],
   "id": "de2f23e4646b2e1a",
   "outputs": [
    {
     "ename": "ValueError",
     "evalue": "n_components=3 must be between 1 and min(n_samples, n_features)=2 with svd_solver='randomized'",
     "output_type": "error",
     "traceback": [
      "\u001B[1;31m---------------------------------------------------------------------------\u001B[0m",
      "\u001B[1;31mValueError\u001B[0m                                Traceback (most recent call last)",
      "Cell \u001B[1;32mIn[21], line 2\u001B[0m\n\u001B[0;32m      1\u001B[0m tsne \u001B[38;5;241m=\u001B[39m TSNE(n_components\u001B[38;5;241m=\u001B[39m\u001B[38;5;241m3\u001B[39m, perplexity\u001B[38;5;241m=\u001B[39m\u001B[38;5;241m30\u001B[39m, learning_rate\u001B[38;5;241m=\u001B[39m\u001B[38;5;241m5\u001B[39m, random_state\u001B[38;5;241m=\u001B[39m\u001B[38;5;241m42\u001B[39m)\n\u001B[1;32m----> 2\u001B[0m data_tsne \u001B[38;5;241m=\u001B[39m \u001B[43mtsne\u001B[49m\u001B[38;5;241;43m.\u001B[39;49m\u001B[43mfit_transform\u001B[49m\u001B[43m(\u001B[49m\u001B[43mdata_normalized\u001B[49m\u001B[43m)\u001B[49m\n\u001B[0;32m      4\u001B[0m draw_plot()\n",
      "File \u001B[1;32m~\\AppData\\Roaming\\Python\\Python312\\site-packages\\sklearn\\utils\\_set_output.py:295\u001B[0m, in \u001B[0;36m_wrap_method_output.<locals>.wrapped\u001B[1;34m(self, X, *args, **kwargs)\u001B[0m\n\u001B[0;32m    293\u001B[0m \u001B[38;5;129m@wraps\u001B[39m(f)\n\u001B[0;32m    294\u001B[0m \u001B[38;5;28;01mdef\u001B[39;00m \u001B[38;5;21mwrapped\u001B[39m(\u001B[38;5;28mself\u001B[39m, X, \u001B[38;5;241m*\u001B[39margs, \u001B[38;5;241m*\u001B[39m\u001B[38;5;241m*\u001B[39mkwargs):\n\u001B[1;32m--> 295\u001B[0m     data_to_wrap \u001B[38;5;241m=\u001B[39m \u001B[43mf\u001B[49m\u001B[43m(\u001B[49m\u001B[38;5;28;43mself\u001B[39;49m\u001B[43m,\u001B[49m\u001B[43m \u001B[49m\u001B[43mX\u001B[49m\u001B[43m,\u001B[49m\u001B[43m \u001B[49m\u001B[38;5;241;43m*\u001B[39;49m\u001B[43margs\u001B[49m\u001B[43m,\u001B[49m\u001B[43m \u001B[49m\u001B[38;5;241;43m*\u001B[39;49m\u001B[38;5;241;43m*\u001B[39;49m\u001B[43mkwargs\u001B[49m\u001B[43m)\u001B[49m\n\u001B[0;32m    296\u001B[0m     \u001B[38;5;28;01mif\u001B[39;00m \u001B[38;5;28misinstance\u001B[39m(data_to_wrap, \u001B[38;5;28mtuple\u001B[39m):\n\u001B[0;32m    297\u001B[0m         \u001B[38;5;66;03m# only wrap the first output for cross decomposition\u001B[39;00m\n\u001B[0;32m    298\u001B[0m         return_tuple \u001B[38;5;241m=\u001B[39m (\n\u001B[0;32m    299\u001B[0m             _wrap_data_with_container(method, data_to_wrap[\u001B[38;5;241m0\u001B[39m], X, \u001B[38;5;28mself\u001B[39m),\n\u001B[0;32m    300\u001B[0m             \u001B[38;5;241m*\u001B[39mdata_to_wrap[\u001B[38;5;241m1\u001B[39m:],\n\u001B[0;32m    301\u001B[0m         )\n",
      "File \u001B[1;32m~\\AppData\\Roaming\\Python\\Python312\\site-packages\\sklearn\\base.py:1474\u001B[0m, in \u001B[0;36m_fit_context.<locals>.decorator.<locals>.wrapper\u001B[1;34m(estimator, *args, **kwargs)\u001B[0m\n\u001B[0;32m   1467\u001B[0m     estimator\u001B[38;5;241m.\u001B[39m_validate_params()\n\u001B[0;32m   1469\u001B[0m \u001B[38;5;28;01mwith\u001B[39;00m config_context(\n\u001B[0;32m   1470\u001B[0m     skip_parameter_validation\u001B[38;5;241m=\u001B[39m(\n\u001B[0;32m   1471\u001B[0m         prefer_skip_nested_validation \u001B[38;5;129;01mor\u001B[39;00m global_skip_validation\n\u001B[0;32m   1472\u001B[0m     )\n\u001B[0;32m   1473\u001B[0m ):\n\u001B[1;32m-> 1474\u001B[0m     \u001B[38;5;28;01mreturn\u001B[39;00m \u001B[43mfit_method\u001B[49m\u001B[43m(\u001B[49m\u001B[43mestimator\u001B[49m\u001B[43m,\u001B[49m\u001B[43m \u001B[49m\u001B[38;5;241;43m*\u001B[39;49m\u001B[43margs\u001B[49m\u001B[43m,\u001B[49m\u001B[43m \u001B[49m\u001B[38;5;241;43m*\u001B[39;49m\u001B[38;5;241;43m*\u001B[39;49m\u001B[43mkwargs\u001B[49m\u001B[43m)\u001B[49m\n",
      "File \u001B[1;32m~\\AppData\\Roaming\\Python\\Python312\\site-packages\\sklearn\\manifold\\_t_sne.py:1136\u001B[0m, in \u001B[0;36mTSNE.fit_transform\u001B[1;34m(self, X, y)\u001B[0m\n\u001B[0;32m   1115\u001B[0m \u001B[38;5;250m\u001B[39m\u001B[38;5;124;03m\"\"\"Fit X into an embedded space and return that transformed output.\u001B[39;00m\n\u001B[0;32m   1116\u001B[0m \n\u001B[0;32m   1117\u001B[0m \u001B[38;5;124;03mParameters\u001B[39;00m\n\u001B[1;32m   (...)\u001B[0m\n\u001B[0;32m   1133\u001B[0m \u001B[38;5;124;03m    Embedding of the training data in low-dimensional space.\u001B[39;00m\n\u001B[0;32m   1134\u001B[0m \u001B[38;5;124;03m\"\"\"\u001B[39;00m\n\u001B[0;32m   1135\u001B[0m \u001B[38;5;28mself\u001B[39m\u001B[38;5;241m.\u001B[39m_check_params_vs_input(X)\n\u001B[1;32m-> 1136\u001B[0m embedding \u001B[38;5;241m=\u001B[39m \u001B[38;5;28;43mself\u001B[39;49m\u001B[38;5;241;43m.\u001B[39;49m\u001B[43m_fit\u001B[49m\u001B[43m(\u001B[49m\u001B[43mX\u001B[49m\u001B[43m)\u001B[49m\n\u001B[0;32m   1137\u001B[0m \u001B[38;5;28mself\u001B[39m\u001B[38;5;241m.\u001B[39membedding_ \u001B[38;5;241m=\u001B[39m embedding\n\u001B[0;32m   1138\u001B[0m \u001B[38;5;28;01mreturn\u001B[39;00m \u001B[38;5;28mself\u001B[39m\u001B[38;5;241m.\u001B[39membedding_\n",
      "File \u001B[1;32m~\\AppData\\Roaming\\Python\\Python312\\site-packages\\sklearn\\manifold\\_t_sne.py:1009\u001B[0m, in \u001B[0;36mTSNE._fit\u001B[1;34m(self, X, skip_num_points)\u001B[0m\n\u001B[0;32m   1007\u001B[0m \u001B[38;5;66;03m# Always output a numpy array, no matter what is configured globally\u001B[39;00m\n\u001B[0;32m   1008\u001B[0m pca\u001B[38;5;241m.\u001B[39mset_output(transform\u001B[38;5;241m=\u001B[39m\u001B[38;5;124m\"\u001B[39m\u001B[38;5;124mdefault\u001B[39m\u001B[38;5;124m\"\u001B[39m)\n\u001B[1;32m-> 1009\u001B[0m X_embedded \u001B[38;5;241m=\u001B[39m \u001B[43mpca\u001B[49m\u001B[38;5;241;43m.\u001B[39;49m\u001B[43mfit_transform\u001B[49m\u001B[43m(\u001B[49m\u001B[43mX\u001B[49m\u001B[43m)\u001B[49m\u001B[38;5;241m.\u001B[39mastype(np\u001B[38;5;241m.\u001B[39mfloat32, copy\u001B[38;5;241m=\u001B[39m\u001B[38;5;28;01mFalse\u001B[39;00m)\n\u001B[0;32m   1010\u001B[0m \u001B[38;5;66;03m# PCA is rescaled so that PC1 has standard deviation 1e-4 which is\u001B[39;00m\n\u001B[0;32m   1011\u001B[0m \u001B[38;5;66;03m# the default value for random initialization. See issue #18018.\u001B[39;00m\n\u001B[0;32m   1012\u001B[0m X_embedded \u001B[38;5;241m=\u001B[39m X_embedded \u001B[38;5;241m/\u001B[39m np\u001B[38;5;241m.\u001B[39mstd(X_embedded[:, \u001B[38;5;241m0\u001B[39m]) \u001B[38;5;241m*\u001B[39m \u001B[38;5;241m1e-4\u001B[39m\n",
      "File \u001B[1;32m~\\AppData\\Roaming\\Python\\Python312\\site-packages\\sklearn\\utils\\_set_output.py:295\u001B[0m, in \u001B[0;36m_wrap_method_output.<locals>.wrapped\u001B[1;34m(self, X, *args, **kwargs)\u001B[0m\n\u001B[0;32m    293\u001B[0m \u001B[38;5;129m@wraps\u001B[39m(f)\n\u001B[0;32m    294\u001B[0m \u001B[38;5;28;01mdef\u001B[39;00m \u001B[38;5;21mwrapped\u001B[39m(\u001B[38;5;28mself\u001B[39m, X, \u001B[38;5;241m*\u001B[39margs, \u001B[38;5;241m*\u001B[39m\u001B[38;5;241m*\u001B[39mkwargs):\n\u001B[1;32m--> 295\u001B[0m     data_to_wrap \u001B[38;5;241m=\u001B[39m \u001B[43mf\u001B[49m\u001B[43m(\u001B[49m\u001B[38;5;28;43mself\u001B[39;49m\u001B[43m,\u001B[49m\u001B[43m \u001B[49m\u001B[43mX\u001B[49m\u001B[43m,\u001B[49m\u001B[43m \u001B[49m\u001B[38;5;241;43m*\u001B[39;49m\u001B[43margs\u001B[49m\u001B[43m,\u001B[49m\u001B[43m \u001B[49m\u001B[38;5;241;43m*\u001B[39;49m\u001B[38;5;241;43m*\u001B[39;49m\u001B[43mkwargs\u001B[49m\u001B[43m)\u001B[49m\n\u001B[0;32m    296\u001B[0m     \u001B[38;5;28;01mif\u001B[39;00m \u001B[38;5;28misinstance\u001B[39m(data_to_wrap, \u001B[38;5;28mtuple\u001B[39m):\n\u001B[0;32m    297\u001B[0m         \u001B[38;5;66;03m# only wrap the first output for cross decomposition\u001B[39;00m\n\u001B[0;32m    298\u001B[0m         return_tuple \u001B[38;5;241m=\u001B[39m (\n\u001B[0;32m    299\u001B[0m             _wrap_data_with_container(method, data_to_wrap[\u001B[38;5;241m0\u001B[39m], X, \u001B[38;5;28mself\u001B[39m),\n\u001B[0;32m    300\u001B[0m             \u001B[38;5;241m*\u001B[39mdata_to_wrap[\u001B[38;5;241m1\u001B[39m:],\n\u001B[0;32m    301\u001B[0m         )\n",
      "File \u001B[1;32m~\\AppData\\Roaming\\Python\\Python312\\site-packages\\sklearn\\base.py:1474\u001B[0m, in \u001B[0;36m_fit_context.<locals>.decorator.<locals>.wrapper\u001B[1;34m(estimator, *args, **kwargs)\u001B[0m\n\u001B[0;32m   1467\u001B[0m     estimator\u001B[38;5;241m.\u001B[39m_validate_params()\n\u001B[0;32m   1469\u001B[0m \u001B[38;5;28;01mwith\u001B[39;00m config_context(\n\u001B[0;32m   1470\u001B[0m     skip_parameter_validation\u001B[38;5;241m=\u001B[39m(\n\u001B[0;32m   1471\u001B[0m         prefer_skip_nested_validation \u001B[38;5;129;01mor\u001B[39;00m global_skip_validation\n\u001B[0;32m   1472\u001B[0m     )\n\u001B[0;32m   1473\u001B[0m ):\n\u001B[1;32m-> 1474\u001B[0m     \u001B[38;5;28;01mreturn\u001B[39;00m \u001B[43mfit_method\u001B[49m\u001B[43m(\u001B[49m\u001B[43mestimator\u001B[49m\u001B[43m,\u001B[49m\u001B[43m \u001B[49m\u001B[38;5;241;43m*\u001B[39;49m\u001B[43margs\u001B[49m\u001B[43m,\u001B[49m\u001B[43m \u001B[49m\u001B[38;5;241;43m*\u001B[39;49m\u001B[38;5;241;43m*\u001B[39;49m\u001B[43mkwargs\u001B[49m\u001B[43m)\u001B[49m\n",
      "File \u001B[1;32m~\\AppData\\Roaming\\Python\\Python312\\site-packages\\sklearn\\decomposition\\_pca.py:454\u001B[0m, in \u001B[0;36mPCA.fit_transform\u001B[1;34m(self, X, y)\u001B[0m\n\u001B[0;32m    431\u001B[0m \u001B[38;5;129m@_fit_context\u001B[39m(prefer_skip_nested_validation\u001B[38;5;241m=\u001B[39m\u001B[38;5;28;01mTrue\u001B[39;00m)\n\u001B[0;32m    432\u001B[0m \u001B[38;5;28;01mdef\u001B[39;00m \u001B[38;5;21mfit_transform\u001B[39m(\u001B[38;5;28mself\u001B[39m, X, y\u001B[38;5;241m=\u001B[39m\u001B[38;5;28;01mNone\u001B[39;00m):\n\u001B[0;32m    433\u001B[0m \u001B[38;5;250m    \u001B[39m\u001B[38;5;124;03m\"\"\"Fit the model with X and apply the dimensionality reduction on X.\u001B[39;00m\n\u001B[0;32m    434\u001B[0m \n\u001B[0;32m    435\u001B[0m \u001B[38;5;124;03m    Parameters\u001B[39;00m\n\u001B[1;32m   (...)\u001B[0m\n\u001B[0;32m    452\u001B[0m \u001B[38;5;124;03m    C-ordered array, use 'np.ascontiguousarray'.\u001B[39;00m\n\u001B[0;32m    453\u001B[0m \u001B[38;5;124;03m    \"\"\"\u001B[39;00m\n\u001B[1;32m--> 454\u001B[0m     U, S, Vt \u001B[38;5;241m=\u001B[39m \u001B[38;5;28;43mself\u001B[39;49m\u001B[38;5;241;43m.\u001B[39;49m\u001B[43m_fit\u001B[49m\u001B[43m(\u001B[49m\u001B[43mX\u001B[49m\u001B[43m)\u001B[49m\n\u001B[0;32m    455\u001B[0m     U \u001B[38;5;241m=\u001B[39m U[:, : \u001B[38;5;28mself\u001B[39m\u001B[38;5;241m.\u001B[39mn_components_]\n\u001B[0;32m    457\u001B[0m     \u001B[38;5;28;01mif\u001B[39;00m \u001B[38;5;28mself\u001B[39m\u001B[38;5;241m.\u001B[39mwhiten:\n\u001B[0;32m    458\u001B[0m         \u001B[38;5;66;03m# X_new = X * V / S * sqrt(n_samples) = U * sqrt(n_samples)\u001B[39;00m\n",
      "File \u001B[1;32m~\\AppData\\Roaming\\Python\\Python312\\site-packages\\sklearn\\decomposition\\_pca.py:516\u001B[0m, in \u001B[0;36mPCA._fit\u001B[1;34m(self, X)\u001B[0m\n\u001B[0;32m    514\u001B[0m     \u001B[38;5;28;01mreturn\u001B[39;00m \u001B[38;5;28mself\u001B[39m\u001B[38;5;241m.\u001B[39m_fit_full(X, n_components)\n\u001B[0;32m    515\u001B[0m \u001B[38;5;28;01melif\u001B[39;00m \u001B[38;5;28mself\u001B[39m\u001B[38;5;241m.\u001B[39m_fit_svd_solver \u001B[38;5;129;01min\u001B[39;00m [\u001B[38;5;124m\"\u001B[39m\u001B[38;5;124marpack\u001B[39m\u001B[38;5;124m\"\u001B[39m, \u001B[38;5;124m\"\u001B[39m\u001B[38;5;124mrandomized\u001B[39m\u001B[38;5;124m\"\u001B[39m]:\n\u001B[1;32m--> 516\u001B[0m     \u001B[38;5;28;01mreturn\u001B[39;00m \u001B[38;5;28;43mself\u001B[39;49m\u001B[38;5;241;43m.\u001B[39;49m\u001B[43m_fit_truncated\u001B[49m\u001B[43m(\u001B[49m\u001B[43mX\u001B[49m\u001B[43m,\u001B[49m\u001B[43m \u001B[49m\u001B[43mn_components\u001B[49m\u001B[43m,\u001B[49m\u001B[43m \u001B[49m\u001B[38;5;28;43mself\u001B[39;49m\u001B[38;5;241;43m.\u001B[39;49m\u001B[43m_fit_svd_solver\u001B[49m\u001B[43m)\u001B[49m\n",
      "File \u001B[1;32m~\\AppData\\Roaming\\Python\\Python312\\site-packages\\sklearn\\decomposition\\_pca.py:619\u001B[0m, in \u001B[0;36mPCA._fit_truncated\u001B[1;34m(self, X, n_components, svd_solver)\u001B[0m\n\u001B[0;32m    614\u001B[0m     \u001B[38;5;28;01mraise\u001B[39;00m \u001B[38;5;167;01mValueError\u001B[39;00m(\n\u001B[0;32m    615\u001B[0m         \u001B[38;5;124m\"\u001B[39m\u001B[38;5;124mn_components=\u001B[39m\u001B[38;5;132;01m%r\u001B[39;00m\u001B[38;5;124m cannot be a string with svd_solver=\u001B[39m\u001B[38;5;124m'\u001B[39m\u001B[38;5;132;01m%s\u001B[39;00m\u001B[38;5;124m'\u001B[39m\u001B[38;5;124m\"\u001B[39m\n\u001B[0;32m    616\u001B[0m         \u001B[38;5;241m%\u001B[39m (n_components, svd_solver)\n\u001B[0;32m    617\u001B[0m     )\n\u001B[0;32m    618\u001B[0m \u001B[38;5;28;01melif\u001B[39;00m \u001B[38;5;129;01mnot\u001B[39;00m \u001B[38;5;241m1\u001B[39m \u001B[38;5;241m<\u001B[39m\u001B[38;5;241m=\u001B[39m n_components \u001B[38;5;241m<\u001B[39m\u001B[38;5;241m=\u001B[39m \u001B[38;5;28mmin\u001B[39m(n_samples, n_features):\n\u001B[1;32m--> 619\u001B[0m     \u001B[38;5;28;01mraise\u001B[39;00m \u001B[38;5;167;01mValueError\u001B[39;00m(\n\u001B[0;32m    620\u001B[0m         \u001B[38;5;124m\"\u001B[39m\u001B[38;5;124mn_components=\u001B[39m\u001B[38;5;132;01m%r\u001B[39;00m\u001B[38;5;124m must be between 1 and \u001B[39m\u001B[38;5;124m\"\u001B[39m\n\u001B[0;32m    621\u001B[0m         \u001B[38;5;124m\"\u001B[39m\u001B[38;5;124mmin(n_samples, n_features)=\u001B[39m\u001B[38;5;132;01m%r\u001B[39;00m\u001B[38;5;124m with \u001B[39m\u001B[38;5;124m\"\u001B[39m\n\u001B[0;32m    622\u001B[0m         \u001B[38;5;124m\"\u001B[39m\u001B[38;5;124msvd_solver=\u001B[39m\u001B[38;5;124m'\u001B[39m\u001B[38;5;132;01m%s\u001B[39;00m\u001B[38;5;124m'\u001B[39m\u001B[38;5;124m\"\u001B[39m\n\u001B[0;32m    623\u001B[0m         \u001B[38;5;241m%\u001B[39m (n_components, \u001B[38;5;28mmin\u001B[39m(n_samples, n_features), svd_solver)\n\u001B[0;32m    624\u001B[0m     )\n\u001B[0;32m    625\u001B[0m \u001B[38;5;28;01melif\u001B[39;00m svd_solver \u001B[38;5;241m==\u001B[39m \u001B[38;5;124m\"\u001B[39m\u001B[38;5;124marpack\u001B[39m\u001B[38;5;124m\"\u001B[39m \u001B[38;5;129;01mand\u001B[39;00m n_components \u001B[38;5;241m==\u001B[39m \u001B[38;5;28mmin\u001B[39m(n_samples, n_features):\n\u001B[0;32m    626\u001B[0m     \u001B[38;5;28;01mraise\u001B[39;00m \u001B[38;5;167;01mValueError\u001B[39;00m(\n\u001B[0;32m    627\u001B[0m         \u001B[38;5;124m\"\u001B[39m\u001B[38;5;124mn_components=\u001B[39m\u001B[38;5;132;01m%r\u001B[39;00m\u001B[38;5;124m must be strictly less than \u001B[39m\u001B[38;5;124m\"\u001B[39m\n\u001B[0;32m    628\u001B[0m         \u001B[38;5;124m\"\u001B[39m\u001B[38;5;124mmin(n_samples, n_features)=\u001B[39m\u001B[38;5;132;01m%r\u001B[39;00m\u001B[38;5;124m with \u001B[39m\u001B[38;5;124m\"\u001B[39m\n\u001B[0;32m    629\u001B[0m         \u001B[38;5;124m\"\u001B[39m\u001B[38;5;124msvd_solver=\u001B[39m\u001B[38;5;124m'\u001B[39m\u001B[38;5;132;01m%s\u001B[39;00m\u001B[38;5;124m'\u001B[39m\u001B[38;5;124m\"\u001B[39m\n\u001B[0;32m    630\u001B[0m         \u001B[38;5;241m%\u001B[39m (n_components, \u001B[38;5;28mmin\u001B[39m(n_samples, n_features), svd_solver)\n\u001B[0;32m    631\u001B[0m     )\n",
      "\u001B[1;31mValueError\u001B[0m: n_components=3 must be between 1 and min(n_samples, n_features)=2 with svd_solver='randomized'"
     ]
    }
   ],
   "execution_count": 21
  }
 ],
 "metadata": {
  "kernelspec": {
   "display_name": "Python 3",
   "language": "python",
   "name": "python3"
  },
  "language_info": {
   "codemirror_mode": {
    "name": "ipython",
    "version": 2
   },
   "file_extension": ".py",
   "mimetype": "text/x-python",
   "name": "python",
   "nbconvert_exporter": "python",
   "pygments_lexer": "ipython2",
   "version": "2.7.6"
  }
 },
 "nbformat": 4,
 "nbformat_minor": 5
}
