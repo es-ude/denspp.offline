{
 "cells": [
  {
   "cell_type": "markdown",
   "metadata": {},
   "source": [
    "# Generate recordings with custom-defined spike trains\n",
    "\n",
    "In this notebook, we will show how to use custom spike trains as input to the simulation. \n",
    "We will use simple spike trains, but the user could use network simulations (e.g. using BRIAN or NEST)."
   ]
  },
  {
   "cell_type": "code",
   "execution_count": null,
   "metadata": {},
   "outputs": [],
   "source": [
    "import MEArec as mr\n",
    "import matplotlib.pyplot as plt\n",
    "import neo\n",
    "import quantities as pq\n",
    "import numpy as np\n",
    "import os\n",
    "import numpy as np\n",
    "%matplotlib notebook"
   ]
  },
  {
   "cell_type": "markdown",
   "metadata": {},
   "source": [
    "# Generate custom spike trains\n",
    "\n",
    "Let's generate 4 custom spike trains: \n",
    "- 2 bursting neurons as excitatory cells\n",
    "- 2 constant neurons as inhibitory cells\n",
    "\n",
    "We need to create a list of `neo.SpikeTrain` objects. We can annotate the spike trains with the `cell_type` keyword to tell the simulator whether a cell is excitatory (E) or inhibitory (I)."
   ]
  },
  {
   "cell_type": "code",
   "execution_count": null,
   "metadata": {},
   "outputs": [],
   "source": [
    "duration = 10  # s\n",
    "t_start = 0\n",
    "burst_duration = 0.5\n",
    "n_spikes_per_burst = 5\n",
    "inter_burst = 2\n",
    "\n",
    "spike_times = []\n",
    "cell_types = []\n",
    "for i in range(2):\n",
    "    if i == 0:        \n",
    "        burst_start = 0.1\n",
    "    else:\n",
    "        burst_start = 0.65\n",
    "    st = np.array([])\n",
    "    while burst_start < duration - burst_duration:\n",
    "        burst = np.linspace(burst_start, burst_start + burst_duration, n_spikes_per_burst)\n",
    "        st = np.concatenate((st, burst))\n",
    "        burst_start = burst_start + burst_duration + inter_burst\n",
    "    spike_times.append(st)\n",
    "    cell_types.append('E')\n",
    "    \n",
    "for i in range(2):\n",
    "    if i == 0:\n",
    "        spike_train_start = 0.1\n",
    "        spike_train_stop = duration - 0.2\n",
    "    else:\n",
    "        spike_train_start = 0.25\n",
    "        spike_train_stop = duration - 0.1\n",
    "    st = np.linspace(spike_train_start, spike_train_stop, 20)\n",
    "    spike_times.append(st)\n",
    "    cell_types.append('I')\n",
    "    \n",
    "# create neo spiketrains\n",
    "spike_trains = []\n",
    "for i, st in enumerate(spike_times):\n",
    "    spiketrain = neo.SpikeTrain(times=st * pq.s, t_start=t_start*pq.s, t_stop=duration*pq.s)\n",
    "    spiketrain.annotate(cell_type=cell_types[i])\n",
    "    spike_trains.append(spiketrain)"
   ]
  },
  {
   "cell_type": "markdown",
   "metadata": {},
   "source": [
    "### Create SpikeTrainGenerator object\n",
    "\n",
    "Now we need to create a MEArec `SpikeTrainGenerator` object, which will be used in the recordings generation phase. We can also use the MEArec API to plot the spike trains."
   ]
  },
  {
   "cell_type": "code",
   "execution_count": null,
   "metadata": {},
   "outputs": [],
   "source": [
    "spgen = mr.SpikeTrainGenerator(spiketrains=spike_trains)"
   ]
  },
  {
   "cell_type": "code",
   "execution_count": null,
   "metadata": {},
   "outputs": [],
   "source": [
    "_ = mr.plot_rasters(spgen.spiketrains, cell_type=True)"
   ]
  },
  {
   "cell_type": "markdown",
   "metadata": {},
   "source": [
    "# Generate templates"
   ]
  },
  {
   "cell_type": "markdown",
   "metadata": {},
   "source": [
    "Let's now generate a few templates on a tetrode to build our recordings. If you have already simulated the templates or you have others, you can skip this section."
   ]
  },
  {
   "cell_type": "code",
   "execution_count": null,
   "metadata": {},
   "outputs": [],
   "source": [
    "template_params = mr.get_default_templates_params()\n",
    "cell_folder = mr.get_default_cell_models_folder()"
   ]
  },
  {
   "cell_type": "code",
   "execution_count": null,
   "metadata": {},
   "outputs": [],
   "source": [
    "template_params['probe'] = 'tetrode'\n",
    "template_params['n'] = 5"
   ]
  },
  {
   "cell_type": "code",
   "execution_count": null,
   "metadata": {},
   "outputs": [],
   "source": [
    "tempgen = mr.gen_templates(cell_models_folder=cell_folder, params=template_params, verbose=True)"
   ]
  },
  {
   "cell_type": "code",
   "execution_count": null,
   "metadata": {},
   "outputs": [],
   "source": [
    "template_filename = 'templates_tetrodes.h5'\n",
    "mr.save_template_generator(tempgen, template_filename)"
   ]
  },
  {
   "cell_type": "markdown",
   "metadata": {},
   "source": [
    "# Generate recordings\n",
    "\n",
    "We have to load the default parameters, so we can modify some of them."
   ]
  },
  {
   "cell_type": "code",
   "execution_count": null,
   "metadata": {},
   "outputs": [],
   "source": [
    "template_filename = 'templates_tetrodes.h5'"
   ]
  },
  {
   "cell_type": "code",
   "execution_count": null,
   "metadata": {},
   "outputs": [],
   "source": [
    "rec_params = mr.get_default_recordings_params()\n",
    "rec_params['recordings']['noise_level'] = 5\n",
    "rec_params['recordings']['filter'] = False\n",
    "rec_params['templates']['min_dist'] = 5"
   ]
  },
  {
   "cell_type": "code",
   "execution_count": null,
   "metadata": {},
   "outputs": [],
   "source": [
    "recgen = mr.gen_recordings(params=rec_params, spgen=spgen, templates=template_filename, verbose=True)"
   ]
  },
  {
   "cell_type": "code",
   "execution_count": null,
   "metadata": {},
   "outputs": [],
   "source": [
    "mr.plot_recordings(recgen, overlay_templates=True, lw=0.5)"
   ]
  }
 ],
 "metadata": {
  "kernelspec": {
   "display_name": "Python 3 (ipykernel)",
   "language": "python",
   "name": "python3"
  },
  "language_info": {
   "codemirror_mode": {
    "name": "ipython",
    "version": 3
   },
   "file_extension": ".py",
   "mimetype": "text/x-python",
   "name": "python",
   "nbconvert_exporter": "python",
   "pygments_lexer": "ipython3",
   "version": "3.8.13"
  },
  "pycharm": {
   "stem_cell": {
    "cell_type": "raw",
    "metadata": {
     "collapsed": false
    },
    "source": []
   }
  }
 },
 "nbformat": 4,
 "nbformat_minor": 2
}
