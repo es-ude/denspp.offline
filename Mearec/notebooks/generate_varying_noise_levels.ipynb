{
 "cells": [
  {
   "cell_type": "markdown",
   "metadata": {},
   "source": [
    "# Generating recordings with varying noise level"
   ]
  },
  {
   "cell_type": "markdown",
   "metadata": {},
   "source": [
    "This notebook shows how to use MEArec to create recordings with different levels of noise. \n",
    "The same principle can be used to study the effect of other features/parameters (e.g. bursting, drifting) on spike sorting.\n",
    "\n",
    "The generated recodrings will share the same spiking activity and only change in the noise level. Before running this notebook, you need to have generated some templates with the \n",
    "`generate_templates_and_recordings.ipynb` notebook."
   ]
  },
  {
   "cell_type": "code",
   "execution_count": null,
   "metadata": {},
   "outputs": [],
   "source": [
    "import MEArec as mr\n",
    "import numpy as np\n",
    "import matplotlib.pylab as plt\n",
    "from pprint import pprint\n",
    "import yaml \n",
    "%matplotlib notebook"
   ]
  },
  {
   "cell_type": "markdown",
   "metadata": {},
   "source": [
    "Let's first take a look at the available parameters to generate recordings:"
   ]
  },
  {
   "cell_type": "code",
   "execution_count": null,
   "metadata": {},
   "outputs": [],
   "source": [
    "rec_params  =mr.get_default_recordings_params()\n",
    "pprint(rec_params)"
   ]
  },
  {
   "cell_type": "markdown",
   "metadata": {},
   "source": [
    "We can now change some parameters *globally* and load the templates. \n",
    "It is important to notice that setting the `spiketrain` and the `templates` seeds ensures that the same spiking activity is replicated (the same random spike trains will be generated, and the same templates will be selected)."
   ]
  },
  {
   "cell_type": "code",
   "execution_count": null,
   "metadata": {},
   "outputs": [],
   "source": [
    "# change parameters\n",
    "rec_params['spiketrains']['n_exc'] = 7\n",
    "rec_params['spiketrains']['n_inh'] = 3\n",
    "rec_params['templates']['max_amp'] = 300\n",
    "rec_params['recordings']['duration'] = 20\n",
    "\n",
    "# set seeds\n",
    "rec_params['spiketrains']['seed'] = np.random.randint(1000)\n",
    "rec_params['templates']['seed'] = np.random.randint(1000)\n",
    "\n",
    "# select templates\n",
    "template_file = 'data/test_templates.h5'\n",
    "\n",
    "rec_params['recordings']['drifting'] = False\n",
    "rec_params['recordings']['noise_mode'] = 'uncorrelated'\n"
   ]
  },
  {
   "cell_type": "markdown",
   "metadata": {},
   "source": [
    "Now let's defin a list of noise levels and simulate many recordings by sweeping through the noise levels. We can save the list of `RecordingGenerator` objects in the `recgen_list` list:"
   ]
  },
  {
   "cell_type": "code",
   "execution_count": null,
   "metadata": {},
   "outputs": [],
   "source": [
    "noise_levels = [5, 10, 15, 20, 25, 30, 50]\n",
    "\n",
    "recgen_list = []\n",
    "\n",
    "for n in noise_levels:\n",
    "    print('Noise level: ', n)\n",
    "    rec_params['recordings']['noise_level'] = n\n",
    "    rec_params['recordings']['seed'] = np.random.randint(1000)\n",
    "    recgen = mr.gen_recordings(templates=template_file, params=rec_params, verbose=False)\n",
    "    recgen_list.append(recgen)"
   ]
  },
  {
   "cell_type": "markdown",
   "metadata": {},
   "source": [
    "Let's now plot the recordings! We'll reverse the noise order so that recordings with large noise levels sit at the bottom."
   ]
  },
  {
   "cell_type": "code",
   "execution_count": null,
   "metadata": {},
   "outputs": [],
   "source": [
    "fig = plt.figure()\n",
    "ax = fig.add_subplot(111)\n",
    "\n",
    "colors = plt.rcParams['axes.prop_cycle'].by_key()['color']\n",
    "for i, recgen in enumerate(recgen_list[::-1]):\n",
    "    mr.plot_recordings(recgen, ax=ax, end_time=1, colors=colors[i])"
   ]
  }
 ],
 "metadata": {
  "kernelspec": {
   "display_name": "Python 3 (ipykernel)",
   "language": "python",
   "name": "python3"
  },
  "language_info": {
   "codemirror_mode": {
    "name": "ipython",
    "version": 3
   },
   "file_extension": ".py",
   "mimetype": "text/x-python",
   "name": "python",
   "nbconvert_exporter": "python",
   "pygments_lexer": "ipython3",
   "version": "3.8.13"
  }
 },
 "nbformat": 4,
 "nbformat_minor": 2
}
