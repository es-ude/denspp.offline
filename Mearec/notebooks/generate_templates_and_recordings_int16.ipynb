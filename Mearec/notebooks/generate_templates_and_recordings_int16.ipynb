{
 "cells": [
  {
   "cell_type": "markdown",
   "metadata": {},
   "source": [
    "# Generating recordings integer recordings\n",
    "\n",
    "This notebook shows how to generate recordings that mimic an acquisition system with a certain ADC bit depth (number of bits used by the Analog to Digital Converter) and LSB (least significant bit) or gain to uV.\n",
    "\n",
    "With MEArec, when selecting an `int` dtype, we can specify the number of bits needed to encode the input signal or the gain to convert the integer values to uV.\n",
    "\n",
    "In addition, we can also specify the value of the LSB in the output recording.\n",
    "\n",
    "\n",
    "The ADC bit depth (if gain is not given) and LSB controls the final range of the signal:\n",
    "\n",
    "```\n",
    "signal_range = lsb * (2^adc_bit_depth)\n",
    "```\n",
    "\n",
    "If `gain` is provided, this is intended as the final gain to recover uV values. Since MEArec \n",
    "already generates uV, the the signal range becomes:\n",
    "\n",
    "```\n",
    "signal_range = lsb / gain\n",
    "```\n",
    "\n",
    "\n",
    "Note that if LSB and ADC bit depth are too large they might exceed the value ranges allowed by the dtype (e.g. `int16`). In this case, you can try to define a *deeper* dtype (e.g. `int32`).\n",
    "\n",
    "The final recording has an attribute called `gain_to_uV`, which is also saved to file."
   ]
  },
  {
   "cell_type": "code",
   "execution_count": null,
   "metadata": {},
   "outputs": [],
   "source": [
    "import MEArec as mr\n",
    "import MEAutility as mu\n",
    "import yaml\n",
    "import numpy as np\n",
    "from pprint import pprint\n",
    "import matplotlib.pylab as plt\n",
    "%matplotlib notebook"
   ]
  },
  {
   "cell_type": "markdown",
   "metadata": {},
   "source": [
    "## Load default configuration files\n",
    "\n",
    "First, let's load the default configuration of MEArec"
   ]
  },
  {
   "cell_type": "code",
   "execution_count": null,
   "metadata": {},
   "outputs": [],
   "source": [
    "default_info, mearec_home = mr.get_default_config()\n",
    "pprint(default_info)"
   ]
  },
  {
   "cell_type": "markdown",
   "metadata": {},
   "source": [
    "## Load pre-generated templates\n",
    "\n",
    "Templates are loaded from the `generate_templates_and_recordings.ipynb` notebook:"
   ]
  },
  {
   "cell_type": "code",
   "execution_count": null,
   "metadata": {},
   "outputs": [],
   "source": [
    "tempgen = mr.load_templates('data/test_templates.h5')"
   ]
  },
  {
   "cell_type": "markdown",
   "metadata": {},
   "source": [
    "## Generating and saving recordings with different ADC depths and LSBs\n",
    "\n",
    "We assume that the `data/test_templates.h5` templates has already been generated (run `generate_templates_and_recordings.ipynb` notebook first)."
   ]
  },
  {
   "cell_type": "code",
   "execution_count": null,
   "metadata": {},
   "outputs": [],
   "source": [
    "recordings_params = mr.get_default_recordings_params()\n",
    "pprint(recordings_params)"
   ]
  },
  {
   "cell_type": "markdown",
   "metadata": {},
   "source": [
    "Similarly to the templates generation, we can change th eparameters that we pass to the `gen_recordings` function.\n",
    "In this case we will keep the default parameters."
   ]
  },
  {
   "cell_type": "code",
   "execution_count": null,
   "metadata": {},
   "outputs": [],
   "source": [
    "adc_bit_depths = [10, 12]\n",
    "lsbs = [1, 4, 8]\n",
    "gains = [0.195, 0.3]"
   ]
  },
  {
   "cell_type": "code",
   "execution_count": null,
   "metadata": {},
   "outputs": [],
   "source": [
    "# set seeds for reproducibility\n",
    "recordings_params[\"seeds\"][\"templates\"] = 0\n",
    "recordings_params[\"seeds\"][\"spiketrains\"] = 1\n",
    "recordings_params[\"seeds\"][\"convolution\"] = 2\n",
    "recordings_params[\"seeds\"][\"noise\"] = 3\n",
    "\n",
    "recordings_params[\"recordings\"][\"dtype\"] = \"int16\"\n",
    "recordings_params[\"recordings\"][\"filter\"] = False"
   ]
  },
  {
   "cell_type": "code",
   "execution_count": null,
   "metadata": {
    "scrolled": false
   },
   "outputs": [],
   "source": [
    "recgen_dict = {}\n",
    "for adc_bit_depth in adc_bit_depths:\n",
    "    for lsb in lsbs:\n",
    "        print(f\"\\n\\nADC DEPTH: {adc_bit_depth} -- LSB: {lsb}\\n\\n\")\n",
    "        recordings_params[\"recordings\"][\"adc_bit_depth\"] = adc_bit_depth\n",
    "        recordings_params[\"recordings\"][\"lsb\"] = lsb\n",
    "\n",
    "        recgen = mr.gen_recordings(templates='data/test_templates.h5', params=recordings_params,\n",
    "                                   verbose=False)\n",
    "        recgen_dict[f\"adc{adc_bit_depth}_lsb{lsb}\"] = recgen\n",
    "        print(f\"Recording gain: {recgen.gain_to_uV}\")\n",
    "        \n",
    "# use gain instead\n",
    "for gain in gains:\n",
    "    for lsb in lsbs:\n",
    "        print(f\"\\n\\nGAIN: {gain} -- LSB: {lsb}\\n\\n\")\n",
    "        recordings_params[\"recordings\"][\"gain\"] = gain\n",
    "        recordings_params[\"recordings\"][\"lsb\"] = lsb\n",
    "\n",
    "        recgen = mr.gen_recordings(templates='data/test_templates.h5', params=recordings_params,\n",
    "                                   verbose=False)\n",
    "        recgen_dict[f\"gain{gain}_lsb{lsb}\"] = recgen\n",
    "        print(f\"Recording gain: {recgen.gain_to_uV}\")"
   ]
  },
  {
   "cell_type": "code",
   "execution_count": null,
   "metadata": {},
   "outputs": [],
   "source": [
    "ch = 10\n",
    "fig, axs = plt.subplots(nrows=2)\n",
    "\n",
    "for i, (rec_name, recgen) in enumerate(recgen_dict.items()):\n",
    "    axs[0].plot(recgen.recordings[:30000, ch], color=f\"C{i}\", alpha=0.7, label=rec_name)\n",
    "    axs[0].set_title(\"Unscaled\")\n",
    "    axs[1].plot(recgen.recordings[:30000, ch] * recgen.gain_to_uV, color=f\"C{i}\", alpha=0.7, label=rec_name)\n",
    "    axs[1].set_title(\"Scaled\")\n",
    "    \n",
    "axs[0].legend()"
   ]
  }
 ],
 "metadata": {
  "kernelspec": {
   "display_name": "Python 3 (ipykernel)",
   "language": "python",
   "name": "python3"
  },
  "language_info": {
   "codemirror_mode": {
    "name": "ipython",
    "version": 3
   },
   "file_extension": ".py",
   "mimetype": "text/x-python",
   "name": "python",
   "nbconvert_exporter": "python",
   "pygments_lexer": "ipython3",
   "version": "3.8.13"
  }
 },
 "nbformat": 4,
 "nbformat_minor": 2
}
