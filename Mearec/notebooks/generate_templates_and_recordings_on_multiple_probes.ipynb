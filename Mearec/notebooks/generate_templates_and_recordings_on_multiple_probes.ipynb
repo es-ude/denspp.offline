{
 "cells": [
  {
   "cell_type": "markdown",
   "id": "emerging-works",
   "metadata": {},
   "source": [
    "# Generate templates and recordings on multiple probes\n",
    "\n",
    "This notebook demonstrates how to generate templates and recordings with the same neurons and spiking activity, but on different probes. This can be useful to characterize how probe geometry affects spike sorting performance"
   ]
  },
  {
   "cell_type": "code",
   "execution_count": null,
   "id": "humanitarian-anxiety",
   "metadata": {},
   "outputs": [],
   "source": [
    "import MEArec as mr\n",
    "import MEAutility as mu\n",
    "import matplotlib.pyplot as plt\n",
    "from pprint import pprint\n",
    "from pathlib import Path\n",
    "import numpy as np\n",
    "from packaging.version import parse\n",
    "\n",
    "%matplotlib notebook"
   ]
  },
  {
   "cell_type": "code",
   "execution_count": null,
   "id": "female-construction",
   "metadata": {},
   "outputs": [],
   "source": [
    "if parse(mr.__version__) < parse('1.6.0'):\n",
    "    raise Exception(\"This feature is available in MEArec >= 1.6\")"
   ]
  },
  {
   "cell_type": "markdown",
   "id": "contemporary-shaft",
   "metadata": {},
   "source": [
    "## Generate templates\n",
    "\n",
    "Let's first choose our two probes:"
   ]
  },
  {
   "cell_type": "code",
   "execution_count": null,
   "id": "raising-trader",
   "metadata": {},
   "outputs": [],
   "source": [
    "mr.available_probes()"
   ]
  },
  {
   "cell_type": "code",
   "execution_count": null,
   "id": "confused-carolina",
   "metadata": {},
   "outputs": [],
   "source": [
    "probe1_name = 'Neuronexus-32'\n",
    "probe2_name = 'Neuropixels-24'"
   ]
  },
  {
   "cell_type": "code",
   "execution_count": null,
   "id": "improved-laugh",
   "metadata": {},
   "outputs": [],
   "source": [
    "probe1 = mu.return_mea(probe1_name)\n",
    "probe2 = mu.return_mea(probe2_name)"
   ]
  },
  {
   "cell_type": "code",
   "execution_count": null,
   "id": "indian-apartment",
   "metadata": {},
   "outputs": [],
   "source": [
    "fig1, axs = plt.subplots(ncols=2)\n",
    "\n",
    "mu.plot_probe(probe1, ax=axs[0])\n",
    "mu.plot_probe(probe2, ax=axs[1])\n",
    "\n",
    "axs[0].set_ylim(-400, 400)\n",
    "axs[1].set_ylim(-400, 400)\n",
    "axs[0].set_title(probe1_name)\n",
    "axs[1].set_title(probe2_name)"
   ]
  },
  {
   "cell_type": "markdown",
   "id": "gentle-continent",
   "metadata": {},
   "source": [
    "Now we can generate templates on the first probe. We'll use a small `n` to speed up the simulation:"
   ]
  },
  {
   "cell_type": "code",
   "execution_count": null,
   "id": "ranging-dollar",
   "metadata": {},
   "outputs": [],
   "source": [
    "templates_params = mr.get_default_templates_params()\n",
    "cell_models_folder = mr.get_default_cell_models_folder()"
   ]
  },
  {
   "cell_type": "code",
   "execution_count": null,
   "id": "promising-portfolio",
   "metadata": {},
   "outputs": [],
   "source": [
    "templates_params['probe'] = probe1_name\n",
    "templates_params['n'] = 5\n",
    "# optionally you can set the seed: templates_params['seed'] = 0"
   ]
  },
  {
   "cell_type": "code",
   "execution_count": null,
   "id": "mineral-exploration",
   "metadata": {},
   "outputs": [],
   "source": [
    "tempgen1 = mr.gen_templates(cell_models_folder=cell_models_folder, params=templates_params, verbose=True)"
   ]
  },
  {
   "cell_type": "markdown",
   "id": "designing-tongue",
   "metadata": {},
   "source": [
    "Now we can use the `tempgen1` to generate templates on the second probe. Passing the `tempgen` argument will bypass the random location/rotation of the cell model, and instead use the ones already simulated.\n",
    "\n",
    "We just need to update the params with the second probe:"
   ]
  },
  {
   "cell_type": "code",
   "execution_count": null,
   "id": "inclusive-ordinary",
   "metadata": {},
   "outputs": [],
   "source": [
    "templates_params['probe'] = probe2_name"
   ]
  },
  {
   "cell_type": "code",
   "execution_count": null,
   "id": "practical-aquatic",
   "metadata": {},
   "outputs": [],
   "source": [
    "tempgen2 = mr.gen_templates(cell_models_folder=cell_models_folder, params=templates_params, \n",
    "                            tempgen=tempgen1, verbose=True)"
   ]
  },
  {
   "cell_type": "markdown",
   "id": "fourth-juice",
   "metadata": {},
   "source": [
    "Let's now check that the locations are the same!"
   ]
  },
  {
   "cell_type": "code",
   "execution_count": null,
   "id": "secret-retreat",
   "metadata": {},
   "outputs": [],
   "source": [
    "for i in np.arange(len(tempgen1.locations)):\n",
    "    print(f\"Template {i}: loc1 - {tempgen1.locations[i]} -- loc2 - {tempgen2.locations[i]}\")"
   ]
  },
  {
   "cell_type": "markdown",
   "id": "operational-chile",
   "metadata": {},
   "source": [
    "Let's see how the templates look:"
   ]
  },
  {
   "cell_type": "code",
   "execution_count": null,
   "id": "detailed-rachel",
   "metadata": {},
   "outputs": [],
   "source": [
    "fig2, axs = plt.subplots(ncols=2)\n",
    "\n",
    "mr.plot_templates(tempgen1, template_ids=[0, 1, 2, 3], ax=axs[0])\n",
    "mr.plot_templates(tempgen2, template_ids=[0, 1, 2, 3], ax=axs[1])"
   ]
  },
  {
   "cell_type": "markdown",
   "id": "intellectual-mission",
   "metadata": {},
   "source": [
    "Great! Now that we have matched templates on two probes, let's generate some recordings!"
   ]
  },
  {
   "cell_type": "markdown",
   "id": "expanded-plant",
   "metadata": {},
   "source": [
    "## Generate recordings"
   ]
  },
  {
   "cell_type": "code",
   "execution_count": null,
   "id": "aboriginal-coordinate",
   "metadata": {},
   "outputs": [],
   "source": [
    "recording_params = mr.get_default_recordings_params()"
   ]
  },
  {
   "cell_type": "markdown",
   "id": "informed-looking",
   "metadata": {},
   "source": [
    "Let's have 5 cells and a duration of 10 s:"
   ]
  },
  {
   "cell_type": "code",
   "execution_count": null,
   "id": "molecular-tours",
   "metadata": {},
   "outputs": [],
   "source": [
    "recording_params[\"spiketrains\"][\"duration\"] = 10\n",
    "recording_params[\"spiketrains\"][\"n_exc\"] = 4\n",
    "recording_params[\"spiketrains\"][\"n_inh\"] = 1"
   ]
  },
  {
   "cell_type": "code",
   "execution_count": null,
   "id": "demographic-democracy",
   "metadata": {},
   "outputs": [],
   "source": [
    "# let's set the seeds to get the same spiking activity and convolution modulation\n",
    "recording_params[\"seeds\"][\"spiketrains\"] = 0\n",
    "recording_params[\"seeds\"][\"templates\"] = 1\n",
    "recording_params[\"seeds\"][\"convolution\"] = 2"
   ]
  },
  {
   "cell_type": "code",
   "execution_count": null,
   "id": "christian-trust",
   "metadata": {},
   "outputs": [],
   "source": [
    "recording_params[\"recordings\"][\"noise_level\"] = 10\n",
    "recording_params[\"recordings\"][\"filter\"] = False"
   ]
  },
  {
   "cell_type": "markdown",
   "id": "apparent-officer",
   "metadata": {},
   "source": [
    "Ready to generate the first recording:"
   ]
  },
  {
   "cell_type": "code",
   "execution_count": null,
   "id": "color-candle",
   "metadata": {},
   "outputs": [],
   "source": [
    "recgen1 = mr.gen_recordings(params=recording_params, tempgen=tempgen1, verbose=True)"
   ]
  },
  {
   "cell_type": "markdown",
   "id": "exclusive-cooperation",
   "metadata": {},
   "source": [
    "The `recgen` object has a `template_ids` field that contains the template indices from the `TemplateGenerator`. Since we generated templates on the second probe with the same templates, we can use these indices to force the same selection:"
   ]
  },
  {
   "cell_type": "code",
   "execution_count": null,
   "id": "labeled-breakdown",
   "metadata": {},
   "outputs": [],
   "source": [
    "recgen1.template_ids"
   ]
  },
  {
   "cell_type": "code",
   "execution_count": null,
   "id": "cubic-possible",
   "metadata": {},
   "outputs": [],
   "source": [
    "recgen2 = mr.gen_recordings(params=recording_params, tempgen=tempgen2, template_ids=recgen1.template_ids,\n",
    "                            verbose=True)"
   ]
  },
  {
   "cell_type": "markdown",
   "id": "tight-fighter",
   "metadata": {},
   "source": [
    "Let's take a look at the recordings:"
   ]
  },
  {
   "cell_type": "code",
   "execution_count": null,
   "id": "noble-absence",
   "metadata": {},
   "outputs": [],
   "source": [
    "fig2, axs = plt.subplots(ncols=2, figsize=(10, 8))\n",
    "\n",
    "_ = mr.plot_recordings(recgen1, lw=0.1, overlay_templates=True,\n",
    "                       max_channels_per_template=1, cmap='rainbow', templates_lw=0.3,\n",
    "                       start_time=0, end_time=5, ax=axs[0])\n",
    "\n",
    "_ = mr.plot_recordings(recgen2, lw=0.1, overlay_templates=True,\n",
    "                       max_channels_per_template=1, cmap='rainbow', templates_lw=0.3,\n",
    "                       start_time=0, end_time=5, ax=axs[1])"
   ]
  },
  {
   "cell_type": "markdown",
   "id": "accessible-medium",
   "metadata": {},
   "source": [
    "We have now the same spiking activity generated by the same neuronal models on 2 different probes!"
   ]
  }
 ],
 "metadata": {
  "kernelspec": {
   "display_name": "Python 3",
   "language": "python",
   "name": "python3"
  },
  "language_info": {
   "codemirror_mode": {
    "name": "ipython",
    "version": 3
   },
   "file_extension": ".py",
   "mimetype": "text/x-python",
   "name": "python",
   "nbconvert_exporter": "python",
   "pygments_lexer": "ipython3",
   "version": "3.8.8"
  }
 },
 "nbformat": 4,
 "nbformat_minor": 5
}
